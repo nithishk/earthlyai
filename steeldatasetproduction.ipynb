{
 "cells": [
  {
   "cell_type": "code",
   "execution_count": 2,
   "metadata": {},
   "outputs": [],
   "source": [
    "import pandas as pd\n",
    "import numpy as np\n",
    "\n",
    "# Generate synthetic dataset for production and sales data\n",
    "date_range = pd.date_range(start=\"2010-01-01\", end=\"2024-12-01\", freq=\"MS\")\n",
    "production_sales_data = {\n",
    "    \"Date\": date_range,\n",
    "    \"Steel Production (Tons)\": 500 + 20 * np.sin(np.linspace(0, 20, len(date_range))) + np.linspace(0, 50, len(date_range)),\n",
    "    \"Steel Sales (Tons)\": 480 + 18 * np.sin(np.linspace(0, 20, len(date_range))) + np.linspace(0, 45, len(date_range)),\n",
    "    \"CO2 Emissions (Tons)\": 1.8 * (500 + 20 * np.sin(np.linspace(0, 20, len(date_range))) + np.linspace(0, 50, len(date_range)))\n",
    "}\n",
    "production_sales_df = pd.DataFrame(production_sales_data)\n",
    "\n",
    "# Save the dataset\n",
    "production_sales_df.to_excel(\"production_and_sales_data.xlsx\", index=False)\n"
   ]
  }
 ],
 "metadata": {
  "kernelspec": {
   "display_name": "ml-dev",
   "language": "python",
   "name": "python3"
  },
  "language_info": {
   "codemirror_mode": {
    "name": "ipython",
    "version": 3
   },
   "file_extension": ".py",
   "mimetype": "text/x-python",
   "name": "python",
   "nbconvert_exporter": "python",
   "pygments_lexer": "ipython3",
   "version": "3.9.16"
  }
 },
 "nbformat": 4,
 "nbformat_minor": 2
}
